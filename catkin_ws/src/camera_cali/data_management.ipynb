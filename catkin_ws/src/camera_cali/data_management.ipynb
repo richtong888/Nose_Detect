{
 "cells": [
  {
   "cell_type": "code",
   "execution_count": 13,
   "id": "d2a4c57f",
   "metadata": {},
   "outputs": [],
   "source": [
    "import numpy as np\n",
    "import cv2\n",
    "import os\n"
   ]
  },
  {
   "cell_type": "code",
   "execution_count": 10,
   "id": "95804290",
   "metadata": {},
   "outputs": [],
   "source": [
    "# change input ounput txt to manage your file"
   ]
  },
  {
   "cell_type": "code",
   "execution_count": 21,
   "id": "0bda58d9",
   "metadata": {},
   "outputs": [],
   "source": [
    "name = 'point7.txt'\n",
    "path = 'cal_0707/'\n",
    "f = open(path+name, 'r')\n",
    "\n",
    "\n",
    "# print(text)"
   ]
  },
  {
   "cell_type": "code",
   "execution_count": 22,
   "id": "636ec0e0",
   "metadata": {},
   "outputs": [],
   "source": [
    "\n",
    "\n",
    "# txt = [\"point\" + str(i)+\".txt\" for i in range(1,13)] #0001.jpg\n",
    "# file_point = [os.path.join(\"\",i)for i in txt]\n",
    "\n",
    "\n",
    "# print(file_point)\n",
    "# # np.save( \"file_train.npy\" ,file_train)"
   ]
  },
  {
   "cell_type": "code",
   "execution_count": 23,
   "id": "af3798b6",
   "metadata": {},
   "outputs": [
    {
     "name": "stdout",
     "output_type": "stream",
     "text": [
      "    child_frame_id: \"tag_1\"\n",
      "    child_frame_id: \"tag_1\"\n",
      "    child_frame_id: \"tag_1\"\n",
      "    child_frame_id: \"tag_1\"\n",
      "    child_frame_id: \"tag_1\"\n"
     ]
    }
   ],
   "source": [
    "\n",
    "    \n",
    "#     f = open(path+file_point[i],'r')\n",
    "text = f.read()\n",
    "    \n",
    "newtext = text.split(\"\\n\")\n",
    "output_path = path +'output_' + name\n",
    "f = open(output_path,'w')\n",
    "cnt = 0\n",
    "\n",
    "i = 0\n",
    "f.writelines('tag_0\\n')\n",
    "while i < len(newtext):\n",
    "    if newtext[i] == '    child_frame_id: \"tag_0\"':\n",
    "        print(newtext[i])\n",
    "    #        print(newtext[i+3],newtext[i+4],newtext[i+5],newtext[i+7],newtext[i+8],newtext[i+9],newtext[i+10])\n",
    "        tag_1 = newtext[i+3].replace('x: ','') + newtext[i+4].replace('y: ','') + newtext[i+5].replace('z: ','') + newtext[i+7].replace('x: ','') + newtext[i+8].replace('y: ','') + newtext[i+9].replace('z: ','') + newtext[i+10].replace('w: ','') \n",
    "    #         print(tag_1)\n",
    "        f.writelines(tag_1 + '\\n')\n",
    "        cnt = cnt +1\n",
    "    i=i+1\n",
    "\n",
    "\n",
    "i = 0\n",
    "f.writelines('tag_1\\n')\n",
    "while i < len(newtext):\n",
    "    if newtext[i] == '    child_frame_id: \"tag_1\"':\n",
    "        print(newtext[i])\n",
    "    #         print(newtext[i+3],newtext[i+4],newtext[i+5],newtext[i+7],newtext[i+8],newtext[i+9],newtext[i+10])\n",
    "        tag_1 = newtext[i+3].replace('x: ','') + newtext[i+4].replace('y: ','') + newtext[i+5].replace('z: ','') + newtext[i+7].replace('x: ','') + newtext[i+8].replace('y: ','') + newtext[i+9].replace('z: ','') + newtext[i+10].replace('w: ','') \n",
    "    #         print(tag_1)\n",
    "        f.writelines(tag_1 + '\\n')\n",
    "        cnt = cnt +1\n",
    "    i=i+1\n",
    "\n",
    "\n",
    "i = 0\n",
    "f.writelines('tag_2\\n')\n",
    "\n",
    "while i < len(newtext):\n",
    "    if newtext[i] == '    child_frame_id: \"tag_2\"':\n",
    "        print(newtext[i])\n",
    "    #         print(newtext[i+3],newtext[i+4],newtext[i+5],newtext[i+7],newtext[i+8],newtext[i+9],newtext[i+10])\n",
    "        tag_1 = newtext[i+3].replace('x: ','') + newtext[i+4].replace('y: ','') + newtext[i+5].replace('z: ','') + newtext[i+7].replace('x: ','') + newtext[i+8].replace('y: ','') + newtext[i+9].replace('z: ','') + newtext[i+10].replace('w: ','') \n",
    "    #         print(tag_1)\n",
    "        f.writelines(tag_1 + '\\n')\n",
    "        cnt = cnt +1\n",
    "    i=i+1\n",
    "\n",
    "\n",
    "i = 0\n",
    "f.writelines('tag_3\\n')\n",
    "\n",
    "# while i < len(newtext):\n",
    "#     if newtext[i] == '    child_frame_id: \"tag_3\"':\n",
    "#         print(newtext[i])\n",
    "#     #         print(newtext[i+3],newtext[i+4],newtext[i+5],newtext[i+7],newtext[i+8],newtext[i+9],newtext[i+10])\n",
    "#         tag_1 = newtext[i+3].replace('x: ','') + newtext[i+4].replace('y: ','') + newtext[i+5].replace('z: ','') + newtext[i+7].replace('x: ','') + newtext[i+8].replace('y: ','') + newtext[i+9].replace('z: ','') + newtext[i+10].replace('w: ','') \n",
    "#     #         print(tag_1)\n",
    "#         f.writelines(tag_1 + '\\n')\n",
    "#         cnt = cnt +1\n",
    "#     i=i+1   \n",
    "\n",
    "\n",
    "#     i = 0\n",
    "#     f.writelines('tag_4\\n')\n",
    "\n",
    "#     while i < len(newtext):\n",
    "#         if newtext[i] == '    child_frame_id: \"tag_4\"':\n",
    "#             print(newtext[i])\n",
    "#     #         print(newtext[i+3],newtext[i+4],newtext[i+5],newtext[i+7],newtext[i+8],newtext[i+9],newtext[i+10])\n",
    "#             tag_1 = newtext[i+3].replace('x: ','') + newtext[i+4].replace('y: ','') + newtext[i+5].replace('z: ','') + newtext[i+7].replace('x: ','') + newtext[i+8].replace('y: ','') + newtext[i+9].replace('z: ','') + newtext[i+10].replace('w: ','') \n",
    "#     #         print(tag_1)\n",
    "#             f.writelines(tag_1 + '\\n')\n",
    "#             cnt = cnt +1\n",
    "#         i=i+1\n",
    "\n",
    "\n",
    "#     i = 0\n",
    "#     f.writelines('tag_5\\n')\n",
    "\n",
    "#     while i < len(newtext):\n",
    "#         if newtext[i] == '    child_frame_id: \"tag_5\"':\n",
    "#             print(newtext[i])\n",
    "#     #         print(newtext[i+3],newtext[i+4],newtext[i+5],newtext[i+7],newtext[i+8],newtext[i+9],newtext[i+10])\n",
    "#             tag_1 = newtext[i+3].replace('x: ','') + newtext[i+4].replace('y: ','') + newtext[i+5].replace('z: ','') + newtext[i+7].replace('x: ','') + newtext[i+8].replace('y: ','') + newtext[i+9].replace('z: ','') + newtext[i+10].replace('w: ','') \n",
    "#     #         print(tag_1)\n",
    "#             f.writelines(tag_1 + '\\n')\n",
    "#             cnt = cnt +1\n",
    "#         i=i+1\n",
    "\n",
    "f.close()    \n",
    "\n"
   ]
  },
  {
   "cell_type": "code",
   "execution_count": null,
   "id": "14c84aca",
   "metadata": {},
   "outputs": [],
   "source": []
  },
  {
   "cell_type": "code",
   "execution_count": null,
   "id": "341580b0",
   "metadata": {},
   "outputs": [],
   "source": []
  }
 ],
 "metadata": {
  "kernelspec": {
   "display_name": "Python 3.6.9 64-bit",
   "language": "python",
   "name": "python3"
  },
  "language_info": {
   "codemirror_mode": {
    "name": "ipython",
    "version": 3
   },
   "file_extension": ".py",
   "mimetype": "text/x-python",
   "name": "python",
   "nbconvert_exporter": "python",
   "pygments_lexer": "ipython3",
   "version": "3.6.9"
  },
  "vscode": {
   "interpreter": {
    "hash": "31f2aee4e71d21fbe5cf8b01ff0e069b9275f58929596ceb00d14d90e3e16cd6"
   }
  }
 },
 "nbformat": 4,
 "nbformat_minor": 5
}
