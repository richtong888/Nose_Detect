{
 "cells": [
  {
   "cell_type": "code",
   "execution_count": 3,
   "id": "9bba8987",
   "metadata": {},
   "outputs": [],
   "source": [
    "import cv2\n",
    "import numpy as np"
   ]
  },
  {
   "cell_type": "code",
   "execution_count": 4,
   "id": "00afef1c",
   "metadata": {},
   "outputs": [],
   "source": [
    "def calibrate_eye_hand(R_gripper2base, t_gripper2base, R_target2cam, t_target2cam, eye_to_hand=True):\n",
    "\n",
    "    if eye_to_hand:\n",
    "        # change coordinates from gripper2base to base2gripper\n",
    "        R_base2gripper, t_base2gripper = [], []\n",
    "        for R, t in zip(R_gripper2base, t_gripper2base):\n",
    "            R_b2g = R.T\n",
    "            t_b2g = -R_b2g @ t\n",
    "            R_base2gripper.append(R_b2g)\n",
    "            t_base2gripper.append(t_b2g)\n",
    "        \n",
    "        # change parameters values\n",
    "        R_gripper2base = R_base2gripper\n",
    "        t_gripper2base = t_base2gripper\n",
    "\n",
    "    # calibrate\n",
    "    R, t = cv2.calibrateHandEye(\n",
    "        R_gripper2base=R_gripper2base,\n",
    "        t_gripper2base=t_gripper2base,\n",
    "        R_target2cam=R_target2cam,\n",
    "        t_target2cam=t_target2cam,\n",
    "    )\n",
    "\n",
    "    return R, t"
   ]
  },
  {
   "cell_type": "code",
   "execution_count": null,
   "id": "1bda4ef6",
   "metadata": {},
   "outputs": [],
   "source": []
  }
 ],
 "metadata": {
  "kernelspec": {
   "display_name": "Python 3",
   "language": "python",
   "name": "python3"
  },
  "language_info": {
   "codemirror_mode": {
    "name": "ipython",
    "version": 3
   },
   "file_extension": ".py",
   "mimetype": "text/x-python",
   "name": "python",
   "nbconvert_exporter": "python",
   "pygments_lexer": "ipython3",
   "version": "3.8.8"
  }
 },
 "nbformat": 4,
 "nbformat_minor": 5
}
