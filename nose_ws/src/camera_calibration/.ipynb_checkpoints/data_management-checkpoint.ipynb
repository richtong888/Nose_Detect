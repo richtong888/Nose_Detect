{
 "cells": [
  {
   "cell_type": "code",
   "execution_count": 6,
   "id": "d2a4c57f",
   "metadata": {},
   "outputs": [],
   "source": [
    "import numpy as np\n",
    "import cv2\n",
    "import os\n"
   ]
  },
  {
   "cell_type": "code",
   "execution_count": 7,
   "id": "95804290",
   "metadata": {},
   "outputs": [],
   "source": [
    "# change input ounput txt to manage your file"
   ]
  },
  {
   "cell_type": "code",
   "execution_count": 8,
   "id": "0bda58d9",
   "metadata": {},
   "outputs": [
    {
     "ename": "FileNotFoundError",
     "evalue": "[Errno 2] No such file or directory: 'point3_0125.txt'",
     "output_type": "error",
     "traceback": [
      "\u001b[0;31m---------------------------------------------------------------------------\u001b[0m",
      "\u001b[0;31mFileNotFoundError\u001b[0m                         Traceback (most recent call last)",
      "\u001b[0;32m<ipython-input-8-89b1c7748a68>\u001b[0m in \u001b[0;36m<module>\u001b[0;34m\u001b[0m\n\u001b[1;32m      1\u001b[0m \u001b[0mpath\u001b[0m \u001b[0;34m=\u001b[0m \u001b[0;34m'point3_0125.txt'\u001b[0m\u001b[0;34m\u001b[0m\u001b[0;34m\u001b[0m\u001b[0m\n\u001b[0;32m----> 2\u001b[0;31m \u001b[0mf\u001b[0m \u001b[0;34m=\u001b[0m \u001b[0mopen\u001b[0m\u001b[0;34m(\u001b[0m\u001b[0mpath\u001b[0m\u001b[0;34m,\u001b[0m \u001b[0;34m'r'\u001b[0m\u001b[0;34m)\u001b[0m\u001b[0;34m\u001b[0m\u001b[0;34m\u001b[0m\u001b[0m\n\u001b[0m\u001b[1;32m      3\u001b[0m \u001b[0;34m\u001b[0m\u001b[0m\n\u001b[1;32m      4\u001b[0m \u001b[0mtext\u001b[0m \u001b[0;34m=\u001b[0m \u001b[0mf\u001b[0m\u001b[0;34m.\u001b[0m\u001b[0mread\u001b[0m\u001b[0;34m(\u001b[0m\u001b[0;34m)\u001b[0m\u001b[0;34m\u001b[0m\u001b[0;34m\u001b[0m\u001b[0m\n\u001b[1;32m      5\u001b[0m \u001b[0mprint\u001b[0m\u001b[0;34m(\u001b[0m\u001b[0mtext\u001b[0m\u001b[0;34m)\u001b[0m\u001b[0;34m\u001b[0m\u001b[0;34m\u001b[0m\u001b[0m\n",
      "\u001b[0;31mFileNotFoundError\u001b[0m: [Errno 2] No such file or directory: 'point3_0125.txt'"
     ]
    }
   ],
   "source": [
    "name = 'point1.txt'\n",
    "path = 'cal_0223/'\n",
    "f = open(path, 'r')\n",
    "\n",
    "text = f.read()\n",
    "print(text)\n",
    "f.close()"
   ]
  },
  {
   "cell_type": "code",
   "execution_count": 9,
   "id": "e3429308",
   "metadata": {},
   "outputs": [
    {
     "name": "stdout",
     "output_type": "stream",
     "text": [
      "['---', 'transforms: ', '  - ', '    header: ', '      seq: 0', '      stamp: ', '        secs: 1643198021', '        nsecs:  78221321', '      frame_id: \"camera_color_optical_frame\"', '    child_frame_id: \"tag_1\"', '    transform: ', '      translation: ', '        x: -0.0932524931377', '        y: -0.0643509657988', '        z: 0.750160448998', '      rotation: ', '        x: 0.6965104106', '        y: -0.689565507084', '        z: 0.129188926613', '        w: 0.150608368313', '---', 'transforms: ', '  - ', '    header: ', '      seq: 0', '      stamp: ', '        secs: 1643198021', '        nsecs: 144939899', '      frame_id: \"camera_color_optical_frame\"', '    child_frame_id: \"tag_1\"', '    transform: ', '      translation: ', '        x: -0.0932667193317', '        y: -0.0643098529122', '        z: 0.750271187017', '      rotation: ', '        x: 0.696562693314', '        y: -0.689757682957', '        z: 0.128324388167', '        w: 0.15022517927', '---', 'transforms: ', '  - ', '    header: ', '      seq: 0', '      stamp: ', '        secs: 1643198021', '        nsecs: 211658478', '      frame_id: \"camera_color_optical_frame\"', '    child_frame_id: \"tag_1\"', '    transform: ', '      translation: ', '        x: -0.0932711353174', '        y: -0.0643324296993', '        z: 0.75044360217', '      rotation: ', '        x: 0.696516845109', '        y: -0.689665666273', '        z: 0.128805422887', '        w: 0.1504483841', '---', 'transforms: ', '  - ', '    header: ', '      seq: 0', '      stamp: ', '        secs: 1643198021', '        nsecs: 278377056', '      frame_id: \"camera_color_optical_frame\"', '    child_frame_id: \"tag_1\"', '    transform: ', '      translation: ', '        x: -0.0932812668605', '        y: -0.0643667465953', '        z: 0.750389991564', '      rotation: ', '        x: 0.69644485763', '        y: -0.689730678515', '        z: 0.128952965159', '        w: 0.150357188629', '---', 'transforms: ', '  - ', '    header: ', '      seq: 0', '      stamp: ', '        secs: 1643198021', '        nsecs: 345095396', '      frame_id: \"camera_color_optical_frame\"', '    child_frame_id: \"tag_1\"', '    transform: ', '      translation: ', '        x: -0.0933277611218', '        y: -0.0644198132277', '        z: 0.750903988613', '      rotation: ', '        x: 0.696465976305', '        y: -0.689839081311', '        z: 0.129238220997', '        w: 0.149514775118', '---', 'transforms: ', '  - ', '    header: ', '      seq: 0', '      stamp: ', '        secs: 1643198021', '        nsecs: 411813974', '      frame_id: \"camera_color_optical_frame\"', '    child_frame_id: \"tag_1\"', '    transform: ', '      translation: ', '        x: -0.0932727929349', '        y: -0.0643249774854', '        z: 0.750368044499', '      rotation: ', '        x: 0.696575508631', '        y: -0.689715721636', '        z: 0.128484249249', '        w: 0.150221775377', '---', 'transforms: ', '  - ', '    header: ', '      seq: 0', '      stamp: ', '        secs: 1643198021', '        nsecs: 478532314', '      frame_id: \"camera_color_optical_frame\"', '    child_frame_id: \"tag_1\"', '    transform: ', '      translation: ', '        x: -0.0932627984669', '        y: -0.0643160304594', '        z: 0.750304524025', '      rotation: ', '        x: 0.696388363995', '        y: -0.689728594851', '        z: 0.128579588678', '        w: 0.150947014919', '---', 'transforms: ', '  - ', '    header: ', '      seq: 0', '      stamp: ', '        secs: 1643198021', '        nsecs: 545250654', '      frame_id: \"camera_color_optical_frame\"', '    child_frame_id: \"tag_1\"', '    transform: ', '      translation: ', '        x: -0.0932927348399', '        y: -0.0643346294245', '        z: 0.750458085186', '      rotation: ', '        x: 0.696531583788', '        y: -0.689720512135', '        z: 0.128494274272', '        w: 0.150394778517', '---', 'transforms: ', '  - ', '    header: ', '      seq: 0', '      stamp: ', '        secs: 1643198021', '        nsecs: 611969233', '      frame_id: \"camera_color_optical_frame\"', '    child_frame_id: \"tag_1\"', '    transform: ', '      translation: ', '        x: -0.0932762693004', '        y: -0.0643530804499', '        z: 0.750364552468', '      rotation: ', '        x: 0.696525262388', '        y: -0.689623845445', '        z: 0.128685376567', '        w: 0.150703631362', '---', 'transforms: ', '  - ', '    header: ', '      seq: 0', '      stamp: ', '        secs: 1643198021', '        nsecs: 678687811', '      frame_id: \"camera_color_optical_frame\"', '    child_frame_id: \"tag_1\"', '    transform: ', '      translation: ', '        x: -0.0932895773412', '        y: -0.0643534038135', '        z: 0.750400013058', '      rotation: ', '        x: 0.696546703847', '        y: -0.689630989219', '        z: 0.128840140257', '        w: 0.150439377584', '---', 'transforms: ', '  - ', '    header: ', '      seq: 0', '      stamp: ', '        secs: 1643198021', '        nsecs: 745406151', '      frame_id: \"camera_color_optical_frame\"', '    child_frame_id: \"tag_1\"', '    transform: ', '      translation: ', '        x: -0.0933162331409', '        y: -0.0643705677778', '        z: 0.750712944971', '      rotation: ', '        x: 0.696526965217', '        y: -0.689797445253', '        z: 0.128845597014', '        w: 0.149761421528', '---', 'transforms: ', '  - ', '    header: ', '      seq: 0', '      stamp: ', '        secs: 1643198021', '        nsecs: 812124729', '      frame_id: \"camera_color_optical_frame\"', '    child_frame_id: \"tag_1\"', '    transform: ', '      translation: ', '        x: -0.0933069629133', '        y: -0.0644082973513', '        z: 0.75062277374', '      rotation: ', '        x: 0.696442176254', '        y: -0.689683610484', '        z: 0.129371684427', '        w: 0.150225762879', '---', 'transforms: ', '  - ', '    header: ', '      seq: 0', '      stamp: ', '        secs: 1643198021', '        nsecs: 878843307', '      frame_id: \"camera_color_optical_frame\"', '    child_frame_id: \"tag_1\"', '    transform: ', '      translation: ', '        x: -0.0932956609431', '        y: -0.064423327054', '        z: 0.750494215794', '      rotation: ', '        x: 0.696385951667', '        y: -0.68964893376', '        z: 0.129635217625', '        w: 0.150418299539', '---', 'transforms: ', '  - ', '    header: ', '      seq: 0', '      stamp: ', '        secs: 1643198021', '        nsecs: 945560932', '      frame_id: \"camera_color_optical_frame\"', '    child_frame_id: \"tag_1\"', '    transform: ', '      translation: ', '        x: -0.0932967637224', '        y: -0.064389105865', '        z: 0.750451021617', '      rotation: ', '        x: 0.696529321924', '        y: -0.689677992833', '        z: 0.129217668715', '        w: 0.14997987863', '---', 'transforms: ', '  - ', '    header: ', '      seq: 0', '      stamp: ', '        secs: 1643198022', '        nsecs:  12278557', '      frame_id: \"camera_color_optical_frame\"', '    child_frame_id: \"tag_1\"', '    transform: ', '      translation: ', '        x: -0.0932868971667', '        y: -0.0643572774345', '        z: 0.750342854263', '      rotation: ', '        x: 0.69653991814', '        y: -0.689628593254', '        z: 0.128906114603', '        w: 0.150425261914', '---', 'transforms: ', '  - ', '    header: ', '      seq: 0', '      stamp: ', '        secs: 1643198022', '        nsecs:  78996420', '      frame_id: \"camera_color_optical_frame\"', '    child_frame_id: \"tag_1\"', '    transform: ', '      translation: ', '        x: -0.0933023159772', '        y: -0.0643596634749', '        z: 0.750481481524', '      rotation: ', '        x: 0.696642933935', '        y: -0.689631293681', '        z: 0.128730593109', '        w: 0.150085761392', '---', 'transforms: ', '  - ', '    header: ', '      seq: 0', '      stamp: ', '        secs: 1643198022', '        nsecs: 145713806', '      frame_id: \"camera_color_optical_frame\"', '    child_frame_id: \"tag_1\"', '    transform: ', '      translation: ', '        x: -0.0933303785884', '        y: -0.0644413611709', '        z: 0.750873031335', '      rotation: ', '        x: 0.696449550914', '        y: -0.689755998511', '        z: 0.129285186003', '        w: 0.149933405983', '', '']\n"
     ]
    }
   ],
   "source": [
    "newtext = text.split(\"\\n\")\n",
    "print(newtext)"
   ]
  },
  {
   "cell_type": "code",
   "execution_count": 10,
   "id": "af3798b6",
   "metadata": {},
   "outputs": [
    {
     "name": "stdout",
     "output_type": "stream",
     "text": [
      "    child_frame_id: \"tag_1\"\n",
      "    child_frame_id: \"tag_1\"\n",
      "    child_frame_id: \"tag_1\"\n",
      "    child_frame_id: \"tag_1\"\n",
      "    child_frame_id: \"tag_1\"\n",
      "    child_frame_id: \"tag_1\"\n",
      "    child_frame_id: \"tag_1\"\n",
      "    child_frame_id: \"tag_1\"\n",
      "    child_frame_id: \"tag_1\"\n",
      "    child_frame_id: \"tag_1\"\n",
      "    child_frame_id: \"tag_1\"\n",
      "    child_frame_id: \"tag_1\"\n",
      "    child_frame_id: \"tag_1\"\n",
      "    child_frame_id: \"tag_1\"\n",
      "    child_frame_id: \"tag_1\"\n",
      "    child_frame_id: \"tag_1\"\n",
      "    child_frame_id: \"tag_1\"\n"
     ]
    }
   ],
   "source": [
    "output_path = path +'output_' + name\n",
    "f = open(output_path,'w')\n",
    "cnt = 0\n",
    "\n",
    "i = 0\n",
    "f.writelines('tag_0\\n')\n",
    "while i < len(newtext):\n",
    "    if newtext[i] == '    child_frame_id: \"tag_0\"':\n",
    "        print(newtext[i])\n",
    "#         print(newtext[i+3],newtext[i+4],newtext[i+5],newtext[i+7],newtext[i+8],newtext[i+9],newtext[i+10])\n",
    "        tag_1 = newtext[i+3].replace('x: ','') + newtext[i+4].replace('y: ','') + newtext[i+5].replace('z: ','') + newtext[i+7].replace('x: ','') + newtext[i+8].replace('y: ','') + newtext[i+9].replace('z: ','') + newtext[i+10].replace('w: ','') \n",
    "#         print(tag_1)\n",
    "        f.writelines(tag_1 + '\\n')\n",
    "        cnt = cnt +1\n",
    "    i=i+1\n",
    "\n",
    "\n",
    "i = 0\n",
    "f.writelines('tag_1\\n')\n",
    "while i < len(newtext):\n",
    "    if newtext[i] == '    child_frame_id: \"tag_1\"':\n",
    "        print(newtext[i])\n",
    "#         print(newtext[i+3],newtext[i+4],newtext[i+5],newtext[i+7],newtext[i+8],newtext[i+9],newtext[i+10])\n",
    "        tag_1 = newtext[i+3].replace('x: ','') + newtext[i+4].replace('y: ','') + newtext[i+5].replace('z: ','') + newtext[i+7].replace('x: ','') + newtext[i+8].replace('y: ','') + newtext[i+9].replace('z: ','') + newtext[i+10].replace('w: ','') \n",
    "#         print(tag_1)\n",
    "        f.writelines(tag_1 + '\\n')\n",
    "        cnt = cnt +1\n",
    "    i=i+1\n",
    "\n",
    "    \n",
    "i = 0\n",
    "f.writelines('tag_2\\n')\n",
    "\n",
    "while i < len(newtext):\n",
    "    if newtext[i] == '    child_frame_id: \"tag_2\"':\n",
    "        print(newtext[i])\n",
    "#         print(newtext[i+3],newtext[i+4],newtext[i+5],newtext[i+7],newtext[i+8],newtext[i+9],newtext[i+10])\n",
    "        tag_1 = newtext[i+3].replace('x: ','') + newtext[i+4].replace('y: ','') + newtext[i+5].replace('z: ','') + newtext[i+7].replace('x: ','') + newtext[i+8].replace('y: ','') + newtext[i+9].replace('z: ','') + newtext[i+10].replace('w: ','') \n",
    "#         print(tag_1)\n",
    "        f.writelines(tag_1 + '\\n')\n",
    "        cnt = cnt +1\n",
    "    i=i+1\n",
    "    \n",
    "    \n",
    "i = 0\n",
    "f.writelines('tag_3\\n')\n",
    "\n",
    "while i < len(newtext):\n",
    "    if newtext[i] == '    child_frame_id: \"tag_3\"':\n",
    "        print(newtext[i])\n",
    "#         print(newtext[i+3],newtext[i+4],newtext[i+5],newtext[i+7],newtext[i+8],newtext[i+9],newtext[i+10])\n",
    "        tag_1 = newtext[i+3].replace('x: ','') + newtext[i+4].replace('y: ','') + newtext[i+5].replace('z: ','') + newtext[i+7].replace('x: ','') + newtext[i+8].replace('y: ','') + newtext[i+9].replace('z: ','') + newtext[i+10].replace('w: ','') \n",
    "#         print(tag_1)\n",
    "        f.writelines(tag_1 + '\\n')\n",
    "        cnt = cnt +1\n",
    "    i=i+1   \n",
    "    \n",
    "    \n",
    "i = 0\n",
    "f.writelines('tag_4\\n')\n",
    "\n",
    "while i < len(newtext):\n",
    "    if newtext[i] == '    child_frame_id: \"tag_4\"':\n",
    "        print(newtext[i])\n",
    "#         print(newtext[i+3],newtext[i+4],newtext[i+5],newtext[i+7],newtext[i+8],newtext[i+9],newtext[i+10])\n",
    "        tag_1 = newtext[i+3].replace('x: ','') + newtext[i+4].replace('y: ','') + newtext[i+5].replace('z: ','') + newtext[i+7].replace('x: ','') + newtext[i+8].replace('y: ','') + newtext[i+9].replace('z: ','') + newtext[i+10].replace('w: ','') \n",
    "#         print(tag_1)\n",
    "        f.writelines(tag_1 + '\\n')\n",
    "        cnt = cnt +1\n",
    "    i=i+1\n",
    "\n",
    "    \n",
    "i = 0\n",
    "f.writelines('tag_5\\n')\n",
    "\n",
    "while i < len(newtext):\n",
    "    if newtext[i] == '    child_frame_id: \"tag_5\"':\n",
    "        print(newtext[i])\n",
    "#         print(newtext[i+3],newtext[i+4],newtext[i+5],newtext[i+7],newtext[i+8],newtext[i+9],newtext[i+10])\n",
    "        tag_1 = newtext[i+3].replace('x: ','') + newtext[i+4].replace('y: ','') + newtext[i+5].replace('z: ','') + newtext[i+7].replace('x: ','') + newtext[i+8].replace('y: ','') + newtext[i+9].replace('z: ','') + newtext[i+10].replace('w: ','') \n",
    "#         print(tag_1)\n",
    "        f.writelines(tag_1 + '\\n')\n",
    "        cnt = cnt +1\n",
    "    i=i+1\n",
    "\n",
    "f.close()    \n",
    "\n"
   ]
  },
  {
   "cell_type": "code",
   "execution_count": null,
   "id": "14c84aca",
   "metadata": {},
   "outputs": [],
   "source": []
  },
  {
   "cell_type": "code",
   "execution_count": null,
   "id": "341580b0",
   "metadata": {},
   "outputs": [],
   "source": []
  }
 ],
 "metadata": {
  "kernelspec": {
   "display_name": "Python 3",
   "language": "python",
   "name": "python3"
  },
  "language_info": {
   "codemirror_mode": {
    "name": "ipython",
    "version": 3
   },
   "file_extension": ".py",
   "mimetype": "text/x-python",
   "name": "python",
   "nbconvert_exporter": "python",
   "pygments_lexer": "ipython3",
   "version": "3.8.8"
  }
 },
 "nbformat": 4,
 "nbformat_minor": 5
}
